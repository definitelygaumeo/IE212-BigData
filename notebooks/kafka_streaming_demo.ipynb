{
 "cells": [
  {
   "cell_type": "code",
   "execution_count": 1,
   "metadata": {},
   "outputs": [],
   "source": [
    "import os\n",
    "import sys\n",
    "import time\n",
    "import json\n",
    "import pandas as pd\n",
    "import findspark\n",
    "findspark.init()\n",
    "from kafka import KafkaProducer, KafkaConsumer\n",
    "from pyspark.sql import SparkSession\n",
    "from pyspark.sql.functions import col, from_json\n",
    "from pyspark.sql.types import StructType, StructField, StringType, DoubleType\n",
    "\n",
    "# Thêm thư mục cha vào sys.path\n",
    "current_dir = os.getcwd()\n",
    "project_dir = os.path.dirname(current_dir)\n",
    "sys.path.insert(0, project_dir)\n",
    "\n",
    "# Khởi tạo SparkSession với đường dẫn đến JAR file\n",
    "spark = SparkSession.builder \\\n",
    "    .appName(\"Kafka Streaming Demo\") \\\n",
    "    .config(\"spark.jars.packages\", \"org.apache.spark:spark-sql-kafka-0-10_2.12:3.5.0\") \\\n",
    "    .getOrCreate()"
   ]
  },
  {
   "cell_type": "code",
   "execution_count": 2,
   "metadata": {},
   "outputs": [],
   "source": [
    "data_path = os.path.join(project_dir, \"data_raw\", \"CVD_cleaned.csv\")\n",
    "df = pd.read_csv(data_path)\n",
    "sample_data = df.head(20).to_dict('records')\n"
   ]
  },
  {
   "cell_type": "code",
   "execution_count": 5,
   "metadata": {},
   "outputs": [
    {
     "name": "stdout",
     "output_type": "stream",
     "text": [
      "Sent: 70-74 - BMI: 14.54\n",
      "Sent: 70-74 - BMI: 28.29\n",
      "Sent: 60-64 - BMI: 33.47\n",
      "Sent: 75-79 - BMI: 28.73\n",
      "Sent: 80+ - BMI: 24.37\n",
      "Sent: 60-64 - BMI: 46.11\n",
      "Sent: 60-64 - BMI: 22.74\n",
      "Sent: 65-69 - BMI: 39.94\n",
      "Sent: 65-69 - BMI: 27.46\n",
      "Sent: 70-74 - BMI: 34.67\n",
      "Sent: 75-79 - BMI: 29.23\n",
      "Sent: 75-79 - BMI: 23.92\n",
      "Sent: 50-54 - BMI: 29.86\n",
      "Sent: 65-69 - BMI: 35.87\n",
      "Sent: 70-74 - BMI: 22.46\n",
      "Sent: 70-74 - BMI: 43.94\n",
      "Sent: 80+ - BMI: 29.84\n",
      "Sent: 80+ - BMI: 29.05\n",
      "Sent: 45-49 - BMI: 33.0\n",
      "Sent: 70-74 - BMI: 30.04\n",
      "All messages sent!\n"
     ]
    }
   ],
   "source": [
    "producer = KafkaProducer(\n",
    "    bootstrap_servers=['localhost:9092'],\n",
    "    value_serializer=lambda v: json.dumps(v).encode('utf-8')\n",
    ")\n",
    "\n",
    "# Gửi từng record vào Kafka\n",
    "for record in sample_data:\n",
    "    producer.send('cvd_topic', record)\n",
    "    print(f\"Sent: {record['Age_Category']} - BMI: {record['BMI']}\")\n",
    "    time.sleep(1)  # Đợi 1 giây giữa các messages\n",
    "\n",
    "producer.flush()\n",
    "print(\"All messages sent!\")"
   ]
  },
  {
   "cell_type": "code",
   "execution_count": 6,
   "metadata": {},
   "outputs": [],
   "source": [
    "schema = StructType([\n",
    "    StructField(\"General_Health\", StringType(), True),\n",
    "    StructField(\"Checkup\", StringType(), True),\n",
    "    # Thêm các trường khác tương ứng với dữ liệu\n",
    "    StructField(\"BMI\", DoubleType(), True),\n",
    "    # ...\n",
    "])\n",
    "\n",
    "streaming_df = spark.readStream \\\n",
    "    .format(\"kafka\") \\\n",
    "    .option(\"kafka.bootstrap.servers\", \"localhost:9092\") \\\n",
    "    .option(\"subscribe\", \"cvd_topic\") \\\n",
    "    .load()\n",
    "\n",
    "# Parse JSON từ Kafka\n",
    "parsed_df = streaming_df.selectExpr(\"CAST(value AS STRING) as json\") \\\n",
    "    .select(from_json(\"json\", schema).alias(\"data\")) \\\n",
    "    .select(\"data.*\")\n",
    "\n",
    "# Hiển thị stream trên console\n",
    "query = parsed_df.writeStream \\\n",
    "    .outputMode(\"append\") \\\n",
    "    .format(\"console\") \\\n",
    "    .start()\n",
    "\n",
    "# Để query chạy trong 60 giây\n",
    "query.awaitTermination(60)\n",
    "query.stop()"
   ]
  },
  {
   "cell_type": "code",
   "execution_count": 7,
   "metadata": {},
   "outputs": [
    {
     "name": "stdout",
     "output_type": "stream",
     "text": [
      "Received: {'General_Health': 'Poor', 'Checkup': 'Within the past 2 years', 'Exercise': 'No', 'Heart_Disease': 'No', 'Skin_Cancer': 'No', 'Other_Cancer': 'No', 'Depression': 'No', 'Diabetes': 'No', 'Arthritis': 'Yes', 'Sex': 'Female', 'Age_Category': '70-74', 'Height_(cm)': 150.0, 'Weight_(kg)': 32.66, 'BMI': 14.54, 'Smoking_History': 'Yes', 'Alcohol_Consumption': 0.0, 'Fruit_Consumption': 30.0, 'Green_Vegetables_Consumption': 16.0, 'FriedPotato_Consumption': 12.0}\n",
      "Received: {'General_Health': 'Very Good', 'Checkup': 'Within the past year', 'Exercise': 'No', 'Heart_Disease': 'Yes', 'Skin_Cancer': 'No', 'Other_Cancer': 'No', 'Depression': 'No', 'Diabetes': 'Yes', 'Arthritis': 'No', 'Sex': 'Female', 'Age_Category': '70-74', 'Height_(cm)': 165.0, 'Weight_(kg)': 77.11, 'BMI': 28.29, 'Smoking_History': 'No', 'Alcohol_Consumption': 0.0, 'Fruit_Consumption': 30.0, 'Green_Vegetables_Consumption': 0.0, 'FriedPotato_Consumption': 4.0}\n",
      "Received: {'General_Health': 'Very Good', 'Checkup': 'Within the past year', 'Exercise': 'Yes', 'Heart_Disease': 'No', 'Skin_Cancer': 'No', 'Other_Cancer': 'No', 'Depression': 'No', 'Diabetes': 'Yes', 'Arthritis': 'No', 'Sex': 'Female', 'Age_Category': '60-64', 'Height_(cm)': 163.0, 'Weight_(kg)': 88.45, 'BMI': 33.47, 'Smoking_History': 'No', 'Alcohol_Consumption': 4.0, 'Fruit_Consumption': 12.0, 'Green_Vegetables_Consumption': 3.0, 'FriedPotato_Consumption': 16.0}\n",
      "Received: {'General_Health': 'Poor', 'Checkup': 'Within the past year', 'Exercise': 'Yes', 'Heart_Disease': 'Yes', 'Skin_Cancer': 'No', 'Other_Cancer': 'No', 'Depression': 'No', 'Diabetes': 'Yes', 'Arthritis': 'No', 'Sex': 'Male', 'Age_Category': '75-79', 'Height_(cm)': 180.0, 'Weight_(kg)': 93.44, 'BMI': 28.73, 'Smoking_History': 'No', 'Alcohol_Consumption': 0.0, 'Fruit_Consumption': 30.0, 'Green_Vegetables_Consumption': 30.0, 'FriedPotato_Consumption': 8.0}\n",
      "Received: {'General_Health': 'Good', 'Checkup': 'Within the past year', 'Exercise': 'No', 'Heart_Disease': 'No', 'Skin_Cancer': 'No', 'Other_Cancer': 'No', 'Depression': 'No', 'Diabetes': 'No', 'Arthritis': 'No', 'Sex': 'Male', 'Age_Category': '80+', 'Height_(cm)': 191.0, 'Weight_(kg)': 88.45, 'BMI': 24.37, 'Smoking_History': 'Yes', 'Alcohol_Consumption': 0.0, 'Fruit_Consumption': 8.0, 'Green_Vegetables_Consumption': 4.0, 'FriedPotato_Consumption': 0.0}\n",
      "Received: {'General_Health': 'Good', 'Checkup': 'Within the past year', 'Exercise': 'No', 'Heart_Disease': 'No', 'Skin_Cancer': 'No', 'Other_Cancer': 'No', 'Depression': 'Yes', 'Diabetes': 'No', 'Arthritis': 'Yes', 'Sex': 'Male', 'Age_Category': '60-64', 'Height_(cm)': 183.0, 'Weight_(kg)': 154.22, 'BMI': 46.11, 'Smoking_History': 'No', 'Alcohol_Consumption': 0.0, 'Fruit_Consumption': 12.0, 'Green_Vegetables_Consumption': 12.0, 'FriedPotato_Consumption': 12.0}\n",
      "Received: {'General_Health': 'Fair', 'Checkup': 'Within the past year', 'Exercise': 'Yes', 'Heart_Disease': 'Yes', 'Skin_Cancer': 'No', 'Other_Cancer': 'No', 'Depression': 'No', 'Diabetes': 'No', 'Arthritis': 'Yes', 'Sex': 'Male', 'Age_Category': '60-64', 'Height_(cm)': 175.0, 'Weight_(kg)': 69.85, 'BMI': 22.74, 'Smoking_History': 'Yes', 'Alcohol_Consumption': 0.0, 'Fruit_Consumption': 16.0, 'Green_Vegetables_Consumption': 8.0, 'FriedPotato_Consumption': 0.0}\n"
     ]
    }
   ],
   "source": [
    "consumer = KafkaConsumer(\n",
    "    'cvd_topic',\n",
    "    bootstrap_servers=['localhost:9092'],\n",
    "    auto_offset_reset='earliest',\n",
    "    value_deserializer=lambda m: json.loads(m.decode('utf-8'))\n",
    ")\n",
    "\n",
    "# Đọc một vài messages\n",
    "for message in consumer:\n",
    "    print(f\"Received: {message.value}\")\n",
    "    \n",
    "    # Dừng sau 5 messages\n",
    "    if message.offset > 5:\n",
    "        break\n",
    "\n",
    "consumer.close()"
   ]
  }
 ],
 "metadata": {
  "kernelspec": {
   "display_name": "Python 3",
   "language": "python",
   "name": "python3"
  },
  "language_info": {
   "codemirror_mode": {
    "name": "ipython",
    "version": 3
   },
   "file_extension": ".py",
   "mimetype": "text/x-python",
   "name": "python",
   "nbconvert_exporter": "python",
   "pygments_lexer": "ipython3",
   "version": "3.10.0"
  }
 },
 "nbformat": 4,
 "nbformat_minor": 2
}
